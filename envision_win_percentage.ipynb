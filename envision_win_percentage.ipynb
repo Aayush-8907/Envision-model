{
  "nbformat": 4,
  "nbformat_minor": 0,
  "metadata": {
    "colab": {
      "provenance": [],
      "authorship_tag": "ABX9TyOijti/HjLNabZeDKWQf5v3",
      "include_colab_link": true
    },
    "kernelspec": {
      "name": "python3",
      "display_name": "Python 3"
    },
    "language_info": {
      "name": "python"
    }
  },
  "cells": [
    {
      "cell_type": "markdown",
      "metadata": {
        "id": "view-in-github",
        "colab_type": "text"
      },
      "source": [
        "<a href=\"https://colab.research.google.com/github/Aayush-8907/Envision-model/blob/main/envision_win_percentage.ipynb\" target=\"_parent\"><img src=\"https://colab.research.google.com/assets/colab-badge.svg\" alt=\"Open In Colab\"/></a>"
      ]
    },
    {
      "cell_type": "code",
      "source": [
        "import pandas as pd\n",
        "\n",
        "data = pd.read_csv('envision_field.csv')\n",
        "provider_data = data[data['AWARDEDTO'] == 'Provider']\n",
        "\n",
        "# Calculate win percentage for 'IDRENTITYSELECTED'\n",
        "unique_value_counts_idrentityselected = provider_data['IDRENTITYSELECTED'].value_counts()\n",
        "total_occurrence_idrentityselected = data['IDRENTITYSELECTED'].value_counts()\n",
        "win_percentage_by_value_idrentityselected = (unique_value_counts_idrentityselected / total_occurrence_idrentityselected) * 100\n",
        "\n",
        "# Iterate through each unique 'IDRENTITYSELECTED' value\n",
        "for idrentityselected, total_count in total_occurrence_idrentityselected.iteritems():\n",
        "    win_percentage = win_percentage_by_value_idrentityselected[idrentityselected]\n",
        "\n",
        "    print(f\"IDRENTITYSELECTED: {idrentityselected}\")\n",
        "    print(f\"Win Percentage for {idrentityselected}: {win_percentage:.2f}% - Total Count: {total_count}\\n\")\n",
        "\n",
        "    # Subset data for the current 'IDRENTITYSELECTED'\n",
        "    subset = provider_data[provider_data['IDRENTITYSELECTED'] == idrentityselected]\n",
        "\n",
        "    # Calculate win percentage for 'FOON_SERVICETYPENAME__C'\n",
        "    value_counts_servicetypename = subset['FOON_SERVICETYPENAME__C'].value_counts()\n",
        "    win_percentage_by_value_servicetypename = (value_counts_servicetypename / value_counts_servicetypename) * 100\n",
        "    # Print 'FOON_SERVICETYPENAME__C' results\n",
        "    print(\"FOON_SERVICETYPENAME__C:\")\n",
        "    for servicetypename, total_count in value_counts_servicetypename.iteritems():\n",
        "      win_percentage = win_percentage_by_value_servicetypename[servicetypename]\n",
        "      print(f\"{servicetypename} - Win Percentage: {win_percentage:.2f}% - Total Count: {total_count}\")\n",
        "\n",
        "\n",
        "\n",
        "    # Calculate win percentage for 'FOON_PAYORSTATE__C'\n",
        "    unique_value_counts_payorstate = subset['FOON_PAYORSTATE__C'].value_counts()\n",
        "    total_occurrence_payorstate = subset['FOON_PAYORSTATE__C'].value_counts()\n",
        "    win_percentage_by_value_payorstate = (unique_value_counts_payorstate / total_occurrence_payorstate) * 100\n",
        "\n",
        "    # Print 'FOON_PAYORSTATE__C' results\n",
        "    print(\"\\nFOON_PAYORSTATE__C:\")\n",
        "    for payorstate, total_count in total_occurrence_payorstate.iteritems():\n",
        "        win_percentage = win_percentage_by_value_payorstate[payorstate]\n",
        "        print(f\"{payorstate} - Win Percentage: {win_percentage:.2f}% - Total Count: {total_count}\")\n",
        "\n",
        "    print(\"\\n\")\n"
      ],
      "metadata": {
        "colab": {
          "base_uri": "https://localhost:8080/"
        },
        "id": "8WkMeF9Luwak",
        "outputId": "3d9e2cd7-8fd4-4d5c-def3-ca3e5c09cee0"
      },
      "execution_count": null,
      "outputs": [
        {
          "output_type": "stream",
          "name": "stdout",
          "text": [
            "IDRENTITYSELECTED: a2E6S00000Az9zJUAR\n",
            "Win Percentage for a2E6S00000Az9zJUAR: 58.97% - Total Count: 39\n",
            "\n",
            "FOON_SERVICETYPENAME__C:\n",
            "emergency - Win Percentage: 100.00% - Total Count: 17\n",
            "anesthesia - Win Percentage: 100.00% - Total Count: 6\n",
            "\n",
            "FOON_PAYORSTATE__C:\n",
            "CT - Win Percentage: 100.00% - Total Count: 7\n",
            "TN - Win Percentage: 100.00% - Total Count: 6\n",
            "MN - Win Percentage: 100.00% - Total Count: 5\n",
            "CO - Win Percentage: 100.00% - Total Count: 4\n",
            "TX - Win Percentage: 100.00% - Total Count: 1\n",
            "\n",
            "\n",
            "IDRENTITYSELECTED: a2E6S00000Az9zQUAR\n",
            "Win Percentage for a2E6S00000Az9zQUAR: 100.00% - Total Count: 6\n",
            "\n",
            "FOON_SERVICETYPENAME__C:\n",
            "anesthesia - Win Percentage: 100.00% - Total Count: 4\n",
            "emergency - Win Percentage: 100.00% - Total Count: 2\n",
            "\n",
            "FOON_PAYORSTATE__C:\n",
            "TN - Win Percentage: 100.00% - Total Count: 2\n",
            "CT - Win Percentage: 100.00% - Total Count: 2\n",
            "UT - Win Percentage: 100.00% - Total Count: 1\n",
            "MN - Win Percentage: 100.00% - Total Count: 1\n",
            "\n",
            "\n",
            "IDRENTITYSELECTED: a2E6S00000Az9zRUAR\n",
            "Win Percentage for a2E6S00000Az9zRUAR: 100.00% - Total Count: 2\n",
            "\n",
            "FOON_SERVICETYPENAME__C:\n",
            "emergency - Win Percentage: 100.00% - Total Count: 2\n",
            "\n",
            "FOON_PAYORSTATE__C:\n",
            "TN - Win Percentage: 100.00% - Total Count: 2\n",
            "\n",
            "\n"
          ]
        },
        {
          "output_type": "stream",
          "name": "stderr",
          "text": [
            "<ipython-input-3-57f84ea4ba77>:12: FutureWarning: iteritems is deprecated and will be removed in a future version. Use .items instead.\n",
            "  for idrentityselected, total_count in total_occurrence_idrentityselected.iteritems():\n",
            "<ipython-input-3-57f84ea4ba77>:26: FutureWarning: iteritems is deprecated and will be removed in a future version. Use .items instead.\n",
            "  for servicetypename, total_count in value_counts_servicetypename.iteritems():\n",
            "<ipython-input-3-57f84ea4ba77>:39: FutureWarning: iteritems is deprecated and will be removed in a future version. Use .items instead.\n",
            "  for payorstate, total_count in total_occurrence_payorstate.iteritems():\n",
            "<ipython-input-3-57f84ea4ba77>:26: FutureWarning: iteritems is deprecated and will be removed in a future version. Use .items instead.\n",
            "  for servicetypename, total_count in value_counts_servicetypename.iteritems():\n",
            "<ipython-input-3-57f84ea4ba77>:39: FutureWarning: iteritems is deprecated and will be removed in a future version. Use .items instead.\n",
            "  for payorstate, total_count in total_occurrence_payorstate.iteritems():\n",
            "<ipython-input-3-57f84ea4ba77>:26: FutureWarning: iteritems is deprecated and will be removed in a future version. Use .items instead.\n",
            "  for servicetypename, total_count in value_counts_servicetypename.iteritems():\n",
            "<ipython-input-3-57f84ea4ba77>:39: FutureWarning: iteritems is deprecated and will be removed in a future version. Use .items instead.\n",
            "  for payorstate, total_count in total_occurrence_payorstate.iteritems():\n"
          ]
        }
      ]
    }
  ]
}